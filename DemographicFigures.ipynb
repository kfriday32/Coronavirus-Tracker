{
 "cells": [
  {
   "cell_type": "code",
   "execution_count": 1,
   "metadata": {},
   "outputs": [
    {
     "name": "stdout",
     "output_type": "stream",
     "text": [
      "Choose a demographic type from the dropdown menu to display mortality rates:\n"
     ]
    },
    {
     "data": {
      "application/vnd.jupyter.widget-view+json": {
       "model_id": "568700ebb630473487826a739140e370",
       "version_major": 2,
       "version_minor": 0
      },
      "text/plain": [
       "interactive(children=(Dropdown(description='demographic', options=('Age', 'Gender', 'Pre-Existing Conditions')…"
      ]
     },
     "metadata": {},
     "output_type": "display_data"
    },
    {
     "name": "stdout",
     "output_type": "stream",
     "text": [
      "Enter options from the following dropdown menus to display estimated deaths: \n",
      "\n"
     ]
    },
    {
     "data": {
      "application/vnd.jupyter.widget-view+json": {
       "model_id": "b0724dfe88e948c5a94da6dfb4ccdf7d",
       "version_major": 2,
       "version_minor": 0
      },
      "text/plain": [
       "interactive(children=(Dropdown(description='age_group', options=('0-14', '15-24', '25-64', '65+'), value='0-14…"
      ]
     },
     "metadata": {},
     "output_type": "display_data"
    },
    {
     "data": {
      "application/vnd.plotly.v1+json": {
       "config": {
        "plotlyServerURL": "https://plot.ly"
       },
       "data": [
        {
         "branchvalues": "total",
         "customdata": [
          [
           "9.7067%"
          ],
          [
           "16.2933%"
          ],
          [
           "6.0853%"
          ],
          [
           "10.2147%"
          ],
          [
           "18.4800%"
          ],
          [
           "31.0200%"
          ],
          [
           "3.0613%"
          ],
          [
           "5.1387%"
          ],
          [
           "(?)"
          ],
          [
           "(?)"
          ]
         ],
         "domain": {
          "x": [
           0,
           1
          ],
          "y": [
           0,
           1
          ]
         },
         "hoverlabel": {
          "namelength": 0
         },
         "hovertemplate": "% of Dead=%{customdata[0]}<br>labels=%{label}<br>Estimated Deaths=%{value}<br>parent=%{parent}<br>id=%{id}",
         "ids": [
          "Female/0-14",
          "Male/0-14",
          "Female/15-24",
          "Male/15-24",
          "Female/25-64",
          "Male/25-64",
          "Female/65+",
          "Male/65+",
          "Female",
          "Male"
         ],
         "labels": [
          "0-14",
          "0-14",
          "15-24",
          "15-24",
          "25-64",
          "25-64",
          "65+",
          "65+",
          "Female",
          "Male"
         ],
         "name": "",
         "parents": [
          "Female",
          "Male",
          "Female",
          "Male",
          "Female",
          "Male",
          "Female",
          "Male",
          "",
          ""
         ],
         "type": "sunburst",
         "values": [
          26070114,
          43760549,
          16343956,
          27434498,
          49633487,
          83313354,
          8222113,
          13801404,
          100269670,
          168309805
         ]
        }
       ],
       "layout": {
        "legend": {
         "tracegroupgap": 0
        },
        "template": {
         "data": {
          "bar": [
           {
            "error_x": {
             "color": "#2a3f5f"
            },
            "error_y": {
             "color": "#2a3f5f"
            },
            "marker": {
             "line": {
              "color": "#E5ECF6",
              "width": 0.5
             }
            },
            "type": "bar"
           }
          ],
          "barpolar": [
           {
            "marker": {
             "line": {
              "color": "#E5ECF6",
              "width": 0.5
             }
            },
            "type": "barpolar"
           }
          ],
          "carpet": [
           {
            "aaxis": {
             "endlinecolor": "#2a3f5f",
             "gridcolor": "white",
             "linecolor": "white",
             "minorgridcolor": "white",
             "startlinecolor": "#2a3f5f"
            },
            "baxis": {
             "endlinecolor": "#2a3f5f",
             "gridcolor": "white",
             "linecolor": "white",
             "minorgridcolor": "white",
             "startlinecolor": "#2a3f5f"
            },
            "type": "carpet"
           }
          ],
          "choropleth": [
           {
            "colorbar": {
             "outlinewidth": 0,
             "ticks": ""
            },
            "type": "choropleth"
           }
          ],
          "contour": [
           {
            "colorbar": {
             "outlinewidth": 0,
             "ticks": ""
            },
            "colorscale": [
             [
              0,
              "#0d0887"
             ],
             [
              0.1111111111111111,
              "#46039f"
             ],
             [
              0.2222222222222222,
              "#7201a8"
             ],
             [
              0.3333333333333333,
              "#9c179e"
             ],
             [
              0.4444444444444444,
              "#bd3786"
             ],
             [
              0.5555555555555556,
              "#d8576b"
             ],
             [
              0.6666666666666666,
              "#ed7953"
             ],
             [
              0.7777777777777778,
              "#fb9f3a"
             ],
             [
              0.8888888888888888,
              "#fdca26"
             ],
             [
              1,
              "#f0f921"
             ]
            ],
            "type": "contour"
           }
          ],
          "contourcarpet": [
           {
            "colorbar": {
             "outlinewidth": 0,
             "ticks": ""
            },
            "type": "contourcarpet"
           }
          ],
          "heatmap": [
           {
            "colorbar": {
             "outlinewidth": 0,
             "ticks": ""
            },
            "colorscale": [
             [
              0,
              "#0d0887"
             ],
             [
              0.1111111111111111,
              "#46039f"
             ],
             [
              0.2222222222222222,
              "#7201a8"
             ],
             [
              0.3333333333333333,
              "#9c179e"
             ],
             [
              0.4444444444444444,
              "#bd3786"
             ],
             [
              0.5555555555555556,
              "#d8576b"
             ],
             [
              0.6666666666666666,
              "#ed7953"
             ],
             [
              0.7777777777777778,
              "#fb9f3a"
             ],
             [
              0.8888888888888888,
              "#fdca26"
             ],
             [
              1,
              "#f0f921"
             ]
            ],
            "type": "heatmap"
           }
          ],
          "heatmapgl": [
           {
            "colorbar": {
             "outlinewidth": 0,
             "ticks": ""
            },
            "colorscale": [
             [
              0,
              "#0d0887"
             ],
             [
              0.1111111111111111,
              "#46039f"
             ],
             [
              0.2222222222222222,
              "#7201a8"
             ],
             [
              0.3333333333333333,
              "#9c179e"
             ],
             [
              0.4444444444444444,
              "#bd3786"
             ],
             [
              0.5555555555555556,
              "#d8576b"
             ],
             [
              0.6666666666666666,
              "#ed7953"
             ],
             [
              0.7777777777777778,
              "#fb9f3a"
             ],
             [
              0.8888888888888888,
              "#fdca26"
             ],
             [
              1,
              "#f0f921"
             ]
            ],
            "type": "heatmapgl"
           }
          ],
          "histogram": [
           {
            "marker": {
             "colorbar": {
              "outlinewidth": 0,
              "ticks": ""
             }
            },
            "type": "histogram"
           }
          ],
          "histogram2d": [
           {
            "colorbar": {
             "outlinewidth": 0,
             "ticks": ""
            },
            "colorscale": [
             [
              0,
              "#0d0887"
             ],
             [
              0.1111111111111111,
              "#46039f"
             ],
             [
              0.2222222222222222,
              "#7201a8"
             ],
             [
              0.3333333333333333,
              "#9c179e"
             ],
             [
              0.4444444444444444,
              "#bd3786"
             ],
             [
              0.5555555555555556,
              "#d8576b"
             ],
             [
              0.6666666666666666,
              "#ed7953"
             ],
             [
              0.7777777777777778,
              "#fb9f3a"
             ],
             [
              0.8888888888888888,
              "#fdca26"
             ],
             [
              1,
              "#f0f921"
             ]
            ],
            "type": "histogram2d"
           }
          ],
          "histogram2dcontour": [
           {
            "colorbar": {
             "outlinewidth": 0,
             "ticks": ""
            },
            "colorscale": [
             [
              0,
              "#0d0887"
             ],
             [
              0.1111111111111111,
              "#46039f"
             ],
             [
              0.2222222222222222,
              "#7201a8"
             ],
             [
              0.3333333333333333,
              "#9c179e"
             ],
             [
              0.4444444444444444,
              "#bd3786"
             ],
             [
              0.5555555555555556,
              "#d8576b"
             ],
             [
              0.6666666666666666,
              "#ed7953"
             ],
             [
              0.7777777777777778,
              "#fb9f3a"
             ],
             [
              0.8888888888888888,
              "#fdca26"
             ],
             [
              1,
              "#f0f921"
             ]
            ],
            "type": "histogram2dcontour"
           }
          ],
          "mesh3d": [
           {
            "colorbar": {
             "outlinewidth": 0,
             "ticks": ""
            },
            "type": "mesh3d"
           }
          ],
          "parcoords": [
           {
            "line": {
             "colorbar": {
              "outlinewidth": 0,
              "ticks": ""
             }
            },
            "type": "parcoords"
           }
          ],
          "pie": [
           {
            "automargin": true,
            "type": "pie"
           }
          ],
          "scatter": [
           {
            "marker": {
             "colorbar": {
              "outlinewidth": 0,
              "ticks": ""
             }
            },
            "type": "scatter"
           }
          ],
          "scatter3d": [
           {
            "line": {
             "colorbar": {
              "outlinewidth": 0,
              "ticks": ""
             }
            },
            "marker": {
             "colorbar": {
              "outlinewidth": 0,
              "ticks": ""
             }
            },
            "type": "scatter3d"
           }
          ],
          "scattercarpet": [
           {
            "marker": {
             "colorbar": {
              "outlinewidth": 0,
              "ticks": ""
             }
            },
            "type": "scattercarpet"
           }
          ],
          "scattergeo": [
           {
            "marker": {
             "colorbar": {
              "outlinewidth": 0,
              "ticks": ""
             }
            },
            "type": "scattergeo"
           }
          ],
          "scattergl": [
           {
            "marker": {
             "colorbar": {
              "outlinewidth": 0,
              "ticks": ""
             }
            },
            "type": "scattergl"
           }
          ],
          "scattermapbox": [
           {
            "marker": {
             "colorbar": {
              "outlinewidth": 0,
              "ticks": ""
             }
            },
            "type": "scattermapbox"
           }
          ],
          "scatterpolar": [
           {
            "marker": {
             "colorbar": {
              "outlinewidth": 0,
              "ticks": ""
             }
            },
            "type": "scatterpolar"
           }
          ],
          "scatterpolargl": [
           {
            "marker": {
             "colorbar": {
              "outlinewidth": 0,
              "ticks": ""
             }
            },
            "type": "scatterpolargl"
           }
          ],
          "scatterternary": [
           {
            "marker": {
             "colorbar": {
              "outlinewidth": 0,
              "ticks": ""
             }
            },
            "type": "scatterternary"
           }
          ],
          "surface": [
           {
            "colorbar": {
             "outlinewidth": 0,
             "ticks": ""
            },
            "colorscale": [
             [
              0,
              "#0d0887"
             ],
             [
              0.1111111111111111,
              "#46039f"
             ],
             [
              0.2222222222222222,
              "#7201a8"
             ],
             [
              0.3333333333333333,
              "#9c179e"
             ],
             [
              0.4444444444444444,
              "#bd3786"
             ],
             [
              0.5555555555555556,
              "#d8576b"
             ],
             [
              0.6666666666666666,
              "#ed7953"
             ],
             [
              0.7777777777777778,
              "#fb9f3a"
             ],
             [
              0.8888888888888888,
              "#fdca26"
             ],
             [
              1,
              "#f0f921"
             ]
            ],
            "type": "surface"
           }
          ],
          "table": [
           {
            "cells": {
             "fill": {
              "color": "#EBF0F8"
             },
             "line": {
              "color": "white"
             }
            },
            "header": {
             "fill": {
              "color": "#C8D4E3"
             },
             "line": {
              "color": "white"
             }
            },
            "type": "table"
           }
          ]
         },
         "layout": {
          "annotationdefaults": {
           "arrowcolor": "#2a3f5f",
           "arrowhead": 0,
           "arrowwidth": 1
          },
          "coloraxis": {
           "colorbar": {
            "outlinewidth": 0,
            "ticks": ""
           }
          },
          "colorscale": {
           "diverging": [
            [
             0,
             "#8e0152"
            ],
            [
             0.1,
             "#c51b7d"
            ],
            [
             0.2,
             "#de77ae"
            ],
            [
             0.3,
             "#f1b6da"
            ],
            [
             0.4,
             "#fde0ef"
            ],
            [
             0.5,
             "#f7f7f7"
            ],
            [
             0.6,
             "#e6f5d0"
            ],
            [
             0.7,
             "#b8e186"
            ],
            [
             0.8,
             "#7fbc41"
            ],
            [
             0.9,
             "#4d9221"
            ],
            [
             1,
             "#276419"
            ]
           ],
           "sequential": [
            [
             0,
             "#0d0887"
            ],
            [
             0.1111111111111111,
             "#46039f"
            ],
            [
             0.2222222222222222,
             "#7201a8"
            ],
            [
             0.3333333333333333,
             "#9c179e"
            ],
            [
             0.4444444444444444,
             "#bd3786"
            ],
            [
             0.5555555555555556,
             "#d8576b"
            ],
            [
             0.6666666666666666,
             "#ed7953"
            ],
            [
             0.7777777777777778,
             "#fb9f3a"
            ],
            [
             0.8888888888888888,
             "#fdca26"
            ],
            [
             1,
             "#f0f921"
            ]
           ],
           "sequentialminus": [
            [
             0,
             "#0d0887"
            ],
            [
             0.1111111111111111,
             "#46039f"
            ],
            [
             0.2222222222222222,
             "#7201a8"
            ],
            [
             0.3333333333333333,
             "#9c179e"
            ],
            [
             0.4444444444444444,
             "#bd3786"
            ],
            [
             0.5555555555555556,
             "#d8576b"
            ],
            [
             0.6666666666666666,
             "#ed7953"
            ],
            [
             0.7777777777777778,
             "#fb9f3a"
            ],
            [
             0.8888888888888888,
             "#fdca26"
            ],
            [
             1,
             "#f0f921"
            ]
           ]
          },
          "colorway": [
           "#636efa",
           "#EF553B",
           "#00cc96",
           "#ab63fa",
           "#FFA15A",
           "#19d3f3",
           "#FF6692",
           "#B6E880",
           "#FF97FF",
           "#FECB52"
          ],
          "font": {
           "color": "#2a3f5f"
          },
          "geo": {
           "bgcolor": "white",
           "lakecolor": "white",
           "landcolor": "#E5ECF6",
           "showlakes": true,
           "showland": true,
           "subunitcolor": "white"
          },
          "hoverlabel": {
           "align": "left"
          },
          "hovermode": "closest",
          "mapbox": {
           "style": "light"
          },
          "paper_bgcolor": "white",
          "plot_bgcolor": "#E5ECF6",
          "polar": {
           "angularaxis": {
            "gridcolor": "white",
            "linecolor": "white",
            "ticks": ""
           },
           "bgcolor": "#E5ECF6",
           "radialaxis": {
            "gridcolor": "white",
            "linecolor": "white",
            "ticks": ""
           }
          },
          "scene": {
           "xaxis": {
            "backgroundcolor": "#E5ECF6",
            "gridcolor": "white",
            "gridwidth": 2,
            "linecolor": "white",
            "showbackground": true,
            "ticks": "",
            "zerolinecolor": "white"
           },
           "yaxis": {
            "backgroundcolor": "#E5ECF6",
            "gridcolor": "white",
            "gridwidth": 2,
            "linecolor": "white",
            "showbackground": true,
            "ticks": "",
            "zerolinecolor": "white"
           },
           "zaxis": {
            "backgroundcolor": "#E5ECF6",
            "gridcolor": "white",
            "gridwidth": 2,
            "linecolor": "white",
            "showbackground": true,
            "ticks": "",
            "zerolinecolor": "white"
           }
          },
          "shapedefaults": {
           "line": {
            "color": "#2a3f5f"
           }
          },
          "ternary": {
           "aaxis": {
            "gridcolor": "white",
            "linecolor": "white",
            "ticks": ""
           },
           "baxis": {
            "gridcolor": "white",
            "linecolor": "white",
            "ticks": ""
           },
           "bgcolor": "#E5ECF6",
           "caxis": {
            "gridcolor": "white",
            "linecolor": "white",
            "ticks": ""
           }
          },
          "title": {
           "x": 0.05
          },
          "xaxis": {
           "automargin": true,
           "gridcolor": "white",
           "linecolor": "white",
           "ticks": "",
           "title": {
            "standoff": 15
           },
           "zerolinecolor": "white",
           "zerolinewidth": 2
          },
          "yaxis": {
           "automargin": true,
           "gridcolor": "white",
           "linecolor": "white",
           "ticks": "",
           "title": {
            "standoff": 15
           },
           "zerolinecolor": "white",
           "zerolinewidth": 2
          }
         }
        },
        "title": {
         "text": "Estimated Deaths According to Demographics"
        }
       }
      },
      "text/html": [
       "<div>\n",
       "        \n",
       "        \n",
       "            <div id=\"e68278a0-11f1-458d-96d0-eaf5a9ce968a\" class=\"plotly-graph-div\" style=\"height:525px; width:100%;\"></div>\n",
       "            <script type=\"text/javascript\">\n",
       "                require([\"plotly\"], function(Plotly) {\n",
       "                    window.PLOTLYENV=window.PLOTLYENV || {};\n",
       "                    \n",
       "                if (document.getElementById(\"e68278a0-11f1-458d-96d0-eaf5a9ce968a\")) {\n",
       "                    Plotly.newPlot(\n",
       "                        'e68278a0-11f1-458d-96d0-eaf5a9ce968a',\n",
       "                        [{\"branchvalues\": \"total\", \"customdata\": [[\"9.7067%\"], [\"16.2933%\"], [\"6.0853%\"], [\"10.2147%\"], [\"18.4800%\"], [\"31.0200%\"], [\"3.0613%\"], [\"5.1387%\"], [\"(?)\"], [\"(?)\"]], \"domain\": {\"x\": [0.0, 1.0], \"y\": [0.0, 1.0]}, \"hoverlabel\": {\"namelength\": 0}, \"hovertemplate\": \"% of Dead=%{customdata[0]}<br>labels=%{label}<br>Estimated Deaths=%{value}<br>parent=%{parent}<br>id=%{id}\", \"ids\": [\"Female/0-14\", \"Male/0-14\", \"Female/15-24\", \"Male/15-24\", \"Female/25-64\", \"Male/25-64\", \"Female/65+\", \"Male/65+\", \"Female\", \"Male\"], \"labels\": [\"0-14\", \"0-14\", \"15-24\", \"15-24\", \"25-64\", \"25-64\", \"65+\", \"65+\", \"Female\", \"Male\"], \"name\": \"\", \"parents\": [\"Female\", \"Male\", \"Female\", \"Male\", \"Female\", \"Male\", \"Female\", \"Male\", \"\", \"\"], \"type\": \"sunburst\", \"values\": [26070114, 43760549, 16343956, 27434498, 49633487, 83313354, 8222113, 13801404, 100269670, 168309805]}],\n",
       "                        {\"legend\": {\"tracegroupgap\": 0}, \"template\": {\"data\": {\"bar\": [{\"error_x\": {\"color\": \"#2a3f5f\"}, \"error_y\": {\"color\": \"#2a3f5f\"}, \"marker\": {\"line\": {\"color\": \"#E5ECF6\", \"width\": 0.5}}, \"type\": \"bar\"}], \"barpolar\": [{\"marker\": {\"line\": {\"color\": \"#E5ECF6\", \"width\": 0.5}}, \"type\": \"barpolar\"}], \"carpet\": [{\"aaxis\": {\"endlinecolor\": \"#2a3f5f\", \"gridcolor\": \"white\", \"linecolor\": \"white\", \"minorgridcolor\": \"white\", \"startlinecolor\": \"#2a3f5f\"}, \"baxis\": {\"endlinecolor\": \"#2a3f5f\", \"gridcolor\": \"white\", \"linecolor\": \"white\", \"minorgridcolor\": \"white\", \"startlinecolor\": \"#2a3f5f\"}, \"type\": \"carpet\"}], \"choropleth\": [{\"colorbar\": {\"outlinewidth\": 0, \"ticks\": \"\"}, \"type\": \"choropleth\"}], \"contour\": [{\"colorbar\": {\"outlinewidth\": 0, \"ticks\": \"\"}, \"colorscale\": [[0.0, \"#0d0887\"], [0.1111111111111111, \"#46039f\"], [0.2222222222222222, \"#7201a8\"], [0.3333333333333333, \"#9c179e\"], [0.4444444444444444, \"#bd3786\"], [0.5555555555555556, \"#d8576b\"], [0.6666666666666666, \"#ed7953\"], [0.7777777777777778, \"#fb9f3a\"], [0.8888888888888888, \"#fdca26\"], [1.0, \"#f0f921\"]], \"type\": \"contour\"}], \"contourcarpet\": [{\"colorbar\": {\"outlinewidth\": 0, \"ticks\": \"\"}, \"type\": \"contourcarpet\"}], \"heatmap\": [{\"colorbar\": {\"outlinewidth\": 0, \"ticks\": \"\"}, \"colorscale\": [[0.0, \"#0d0887\"], [0.1111111111111111, \"#46039f\"], [0.2222222222222222, \"#7201a8\"], [0.3333333333333333, \"#9c179e\"], [0.4444444444444444, \"#bd3786\"], [0.5555555555555556, \"#d8576b\"], [0.6666666666666666, \"#ed7953\"], [0.7777777777777778, \"#fb9f3a\"], [0.8888888888888888, \"#fdca26\"], [1.0, \"#f0f921\"]], \"type\": \"heatmap\"}], \"heatmapgl\": [{\"colorbar\": {\"outlinewidth\": 0, \"ticks\": \"\"}, \"colorscale\": [[0.0, \"#0d0887\"], [0.1111111111111111, \"#46039f\"], [0.2222222222222222, \"#7201a8\"], [0.3333333333333333, \"#9c179e\"], [0.4444444444444444, \"#bd3786\"], [0.5555555555555556, \"#d8576b\"], [0.6666666666666666, \"#ed7953\"], [0.7777777777777778, \"#fb9f3a\"], [0.8888888888888888, \"#fdca26\"], [1.0, \"#f0f921\"]], \"type\": \"heatmapgl\"}], \"histogram\": [{\"marker\": {\"colorbar\": {\"outlinewidth\": 0, \"ticks\": \"\"}}, \"type\": \"histogram\"}], \"histogram2d\": [{\"colorbar\": {\"outlinewidth\": 0, \"ticks\": \"\"}, \"colorscale\": [[0.0, \"#0d0887\"], [0.1111111111111111, \"#46039f\"], [0.2222222222222222, \"#7201a8\"], [0.3333333333333333, \"#9c179e\"], [0.4444444444444444, \"#bd3786\"], [0.5555555555555556, \"#d8576b\"], [0.6666666666666666, \"#ed7953\"], [0.7777777777777778, \"#fb9f3a\"], [0.8888888888888888, \"#fdca26\"], [1.0, \"#f0f921\"]], \"type\": \"histogram2d\"}], \"histogram2dcontour\": [{\"colorbar\": {\"outlinewidth\": 0, \"ticks\": \"\"}, \"colorscale\": [[0.0, \"#0d0887\"], [0.1111111111111111, \"#46039f\"], [0.2222222222222222, \"#7201a8\"], [0.3333333333333333, \"#9c179e\"], [0.4444444444444444, \"#bd3786\"], [0.5555555555555556, \"#d8576b\"], [0.6666666666666666, \"#ed7953\"], [0.7777777777777778, \"#fb9f3a\"], [0.8888888888888888, \"#fdca26\"], [1.0, \"#f0f921\"]], \"type\": \"histogram2dcontour\"}], \"mesh3d\": [{\"colorbar\": {\"outlinewidth\": 0, \"ticks\": \"\"}, \"type\": \"mesh3d\"}], \"parcoords\": [{\"line\": {\"colorbar\": {\"outlinewidth\": 0, \"ticks\": \"\"}}, \"type\": \"parcoords\"}], \"pie\": [{\"automargin\": true, \"type\": \"pie\"}], \"scatter\": [{\"marker\": {\"colorbar\": {\"outlinewidth\": 0, \"ticks\": \"\"}}, \"type\": \"scatter\"}], \"scatter3d\": [{\"line\": {\"colorbar\": {\"outlinewidth\": 0, \"ticks\": \"\"}}, \"marker\": {\"colorbar\": {\"outlinewidth\": 0, \"ticks\": \"\"}}, \"type\": \"scatter3d\"}], \"scattercarpet\": [{\"marker\": {\"colorbar\": {\"outlinewidth\": 0, \"ticks\": \"\"}}, \"type\": \"scattercarpet\"}], \"scattergeo\": [{\"marker\": {\"colorbar\": {\"outlinewidth\": 0, \"ticks\": \"\"}}, \"type\": \"scattergeo\"}], \"scattergl\": [{\"marker\": {\"colorbar\": {\"outlinewidth\": 0, \"ticks\": \"\"}}, \"type\": \"scattergl\"}], \"scattermapbox\": [{\"marker\": {\"colorbar\": {\"outlinewidth\": 0, \"ticks\": \"\"}}, \"type\": \"scattermapbox\"}], \"scatterpolar\": [{\"marker\": {\"colorbar\": {\"outlinewidth\": 0, \"ticks\": \"\"}}, \"type\": \"scatterpolar\"}], \"scatterpolargl\": [{\"marker\": {\"colorbar\": {\"outlinewidth\": 0, \"ticks\": \"\"}}, \"type\": \"scatterpolargl\"}], \"scatterternary\": [{\"marker\": {\"colorbar\": {\"outlinewidth\": 0, \"ticks\": \"\"}}, \"type\": \"scatterternary\"}], \"surface\": [{\"colorbar\": {\"outlinewidth\": 0, \"ticks\": \"\"}, \"colorscale\": [[0.0, \"#0d0887\"], [0.1111111111111111, \"#46039f\"], [0.2222222222222222, \"#7201a8\"], [0.3333333333333333, \"#9c179e\"], [0.4444444444444444, \"#bd3786\"], [0.5555555555555556, \"#d8576b\"], [0.6666666666666666, \"#ed7953\"], [0.7777777777777778, \"#fb9f3a\"], [0.8888888888888888, \"#fdca26\"], [1.0, \"#f0f921\"]], \"type\": \"surface\"}], \"table\": [{\"cells\": {\"fill\": {\"color\": \"#EBF0F8\"}, \"line\": {\"color\": \"white\"}}, \"header\": {\"fill\": {\"color\": \"#C8D4E3\"}, \"line\": {\"color\": \"white\"}}, \"type\": \"table\"}]}, \"layout\": {\"annotationdefaults\": {\"arrowcolor\": \"#2a3f5f\", \"arrowhead\": 0, \"arrowwidth\": 1}, \"coloraxis\": {\"colorbar\": {\"outlinewidth\": 0, \"ticks\": \"\"}}, \"colorscale\": {\"diverging\": [[0, \"#8e0152\"], [0.1, \"#c51b7d\"], [0.2, \"#de77ae\"], [0.3, \"#f1b6da\"], [0.4, \"#fde0ef\"], [0.5, \"#f7f7f7\"], [0.6, \"#e6f5d0\"], [0.7, \"#b8e186\"], [0.8, \"#7fbc41\"], [0.9, \"#4d9221\"], [1, \"#276419\"]], \"sequential\": [[0.0, \"#0d0887\"], [0.1111111111111111, \"#46039f\"], [0.2222222222222222, \"#7201a8\"], [0.3333333333333333, \"#9c179e\"], [0.4444444444444444, \"#bd3786\"], [0.5555555555555556, \"#d8576b\"], [0.6666666666666666, \"#ed7953\"], [0.7777777777777778, \"#fb9f3a\"], [0.8888888888888888, \"#fdca26\"], [1.0, \"#f0f921\"]], \"sequentialminus\": [[0.0, \"#0d0887\"], [0.1111111111111111, \"#46039f\"], [0.2222222222222222, \"#7201a8\"], [0.3333333333333333, \"#9c179e\"], [0.4444444444444444, \"#bd3786\"], [0.5555555555555556, \"#d8576b\"], [0.6666666666666666, \"#ed7953\"], [0.7777777777777778, \"#fb9f3a\"], [0.8888888888888888, \"#fdca26\"], [1.0, \"#f0f921\"]]}, \"colorway\": [\"#636efa\", \"#EF553B\", \"#00cc96\", \"#ab63fa\", \"#FFA15A\", \"#19d3f3\", \"#FF6692\", \"#B6E880\", \"#FF97FF\", \"#FECB52\"], \"font\": {\"color\": \"#2a3f5f\"}, \"geo\": {\"bgcolor\": \"white\", \"lakecolor\": \"white\", \"landcolor\": \"#E5ECF6\", \"showlakes\": true, \"showland\": true, \"subunitcolor\": \"white\"}, \"hoverlabel\": {\"align\": \"left\"}, \"hovermode\": \"closest\", \"mapbox\": {\"style\": \"light\"}, \"paper_bgcolor\": \"white\", \"plot_bgcolor\": \"#E5ECF6\", \"polar\": {\"angularaxis\": {\"gridcolor\": \"white\", \"linecolor\": \"white\", \"ticks\": \"\"}, \"bgcolor\": \"#E5ECF6\", \"radialaxis\": {\"gridcolor\": \"white\", \"linecolor\": \"white\", \"ticks\": \"\"}}, \"scene\": {\"xaxis\": {\"backgroundcolor\": \"#E5ECF6\", \"gridcolor\": \"white\", \"gridwidth\": 2, \"linecolor\": \"white\", \"showbackground\": true, \"ticks\": \"\", \"zerolinecolor\": \"white\"}, \"yaxis\": {\"backgroundcolor\": \"#E5ECF6\", \"gridcolor\": \"white\", \"gridwidth\": 2, \"linecolor\": \"white\", \"showbackground\": true, \"ticks\": \"\", \"zerolinecolor\": \"white\"}, \"zaxis\": {\"backgroundcolor\": \"#E5ECF6\", \"gridcolor\": \"white\", \"gridwidth\": 2, \"linecolor\": \"white\", \"showbackground\": true, \"ticks\": \"\", \"zerolinecolor\": \"white\"}}, \"shapedefaults\": {\"line\": {\"color\": \"#2a3f5f\"}}, \"ternary\": {\"aaxis\": {\"gridcolor\": \"white\", \"linecolor\": \"white\", \"ticks\": \"\"}, \"baxis\": {\"gridcolor\": \"white\", \"linecolor\": \"white\", \"ticks\": \"\"}, \"bgcolor\": \"#E5ECF6\", \"caxis\": {\"gridcolor\": \"white\", \"linecolor\": \"white\", \"ticks\": \"\"}}, \"title\": {\"x\": 0.05}, \"xaxis\": {\"automargin\": true, \"gridcolor\": \"white\", \"linecolor\": \"white\", \"ticks\": \"\", \"title\": {\"standoff\": 15}, \"zerolinecolor\": \"white\", \"zerolinewidth\": 2}, \"yaxis\": {\"automargin\": true, \"gridcolor\": \"white\", \"linecolor\": \"white\", \"ticks\": \"\", \"title\": {\"standoff\": 15}, \"zerolinecolor\": \"white\", \"zerolinewidth\": 2}}}, \"title\": {\"text\": \"Estimated Deaths According to Demographics\"}},\n",
       "                        {\"responsive\": true}\n",
       "                    ).then(function(){\n",
       "                            \n",
       "var gd = document.getElementById('e68278a0-11f1-458d-96d0-eaf5a9ce968a');\n",
       "var x = new MutationObserver(function (mutations, observer) {{\n",
       "        var display = window.getComputedStyle(gd).display;\n",
       "        if (!display || display === 'none') {{\n",
       "            console.log([gd, 'removed!']);\n",
       "            Plotly.purge(gd);\n",
       "            observer.disconnect();\n",
       "        }}\n",
       "}});\n",
       "\n",
       "// Listen for the removal of the full notebook cells\n",
       "var notebookContainer = gd.closest('#notebook-container');\n",
       "if (notebookContainer) {{\n",
       "    x.observe(notebookContainer, {childList: true});\n",
       "}}\n",
       "\n",
       "// Listen for the clearing of the current output cell\n",
       "var outputEl = gd.closest('.output');\n",
       "if (outputEl) {{\n",
       "    x.observe(outputEl, {childList: true});\n",
       "}}\n",
       "\n",
       "                        })\n",
       "                };\n",
       "                });\n",
       "            </script>\n",
       "        </div>"
      ]
     },
     "metadata": {},
     "output_type": "display_data"
    },
    {
     "name": "stdout",
     "output_type": "stream",
     "text": [
      "\n",
      "        The visualization above shows the estimated age and gender breakdown for those dying of Coronavirus. \n",
      "        Though older individuals have a greater likelihood of dying from the disease, the fact that they make  \n",
      "        up a much smaller percentage of the population leads to the estimated counts that are displayed. \n",
      "        The death percentages are taken out of a total population of 7,162,119,434.\n"
     ]
    }
   ],
   "source": [
    "# demographic_figures.py\n",
    "# This program reads in information concerning deaths rates for Coronavirus. It\n",
    "# turns the raw data into dataframes for age, gender, and pre-existing conditions.\n",
    "# It also stores the breakdown of age groupings in the population and uses these\n",
    "# figures to estimate the total mortality by gender, age, and relevant diseases.\n",
    "# It gives the user the choice to see a bar graph displaying the death rates either for\n",
    "# age, gender, or pre-existing conditions. Furthermore, it creates a sunburst visualization\n",
    "# that gives a qualitative representation of the user's risk given input conditions.\n",
    "# \n",
    "# Author: Kristen Friday\n",
    "# Date: April 21, 2020\n",
    "\n",
    "from bs4 import BeautifulSoup\n",
    "import requests\n",
    "import pandas as pd\n",
    "import plotly.express as px\n",
    "from ipywidgets import interact, fixed\n",
    "import csv\n",
    "\n",
    "\n",
    "# get HTML death rate data\n",
    "html_raw = open('Demographics_HTML.html')\n",
    "soup = BeautifulSoup(html_raw, 'lxml')\n",
    "subsoup = soup.find('div', class_='content-inner')\n",
    "table_values = subsoup.find_all('strong')\n",
    "\n",
    "# function that obtains all demographic data from the subsoup\n",
    "# returns a list containing 3 lists of demographic data (age, gender, pre-existing conditions)\n",
    "def get_data():\n",
    "\n",
    "    # empty list to store values from tables\n",
    "    start_indeces = []\n",
    "    end_indeces = []\n",
    "\n",
    "    # get range of indeces for table values\n",
    "    for index, value in enumerate(table_values):\n",
    "        string_val = value.text.strip()\n",
    "        if string_val == '80+ years old' or string_val == 'Male' or string_val == 'Cardiovascular disease':\n",
    "            start_indeces.append(index)\n",
    "        elif string_val == 'Death Rat':\n",
    "            end_indeces.append(index)\n",
    "\n",
    "    # get rid of all extra indeces that don't contain relevant data\n",
    "    for i in range(len(start_indeces)):\n",
    "        if end_indeces[i] < start_indeces[i]:\n",
    "            del end_indeces[i]\n",
    "\n",
    "    # empty list to store lists of values in index ranges\n",
    "    list_values_list = []\n",
    "    \n",
    "    for i in range(len(start_indeces)):\n",
    "        # empty list to store index ranges containing data\n",
    "        index_range = []\n",
    "\n",
    "        start_index = int(start_indeces[i])\n",
    "        for j in range(start_index, int(end_indeces[i])):\n",
    "            # filter out a piece of irrelevant information\n",
    "            # add all indeces between start and end to index list\n",
    "            if j != 13:\n",
    "                index_range.append(j)\n",
    "            \n",
    "        # empty list to store values within range\n",
    "        values_list = []\n",
    "\n",
    "        # print values within index range    \n",
    "        for index, value in enumerate(table_values):\n",
    "            if index in index_range:\n",
    "                if value.text.strip() == 'no fatalities':\n",
    "                    values_list.append('0.0%')\n",
    "                else:\n",
    "                    values_list.append(value.text.strip())\n",
    "        list_values_list.append(values_list)\n",
    "    \n",
    "    return list_values_list\n",
    "\n",
    "\n",
    "# function accesses list of lists containing values for death rates and puts into dataframe\n",
    "# returns 3 dataframes for age, gender, pre-existing conditions\n",
    "def data_to_dataframe(values):\n",
    "    # dictionaries that hold demographic as key and percentage as value\n",
    "    age_dict = {}\n",
    "    gender_dict = {}\n",
    "    disease_dict = {}\n",
    "    \n",
    "    # add values to respective dictionaries\n",
    "    for i in range(0, len(values[0])-1, 2):\n",
    "        age_dict[values[0][i]] = values[0][i+1]\n",
    "        \n",
    "    for i in range(0, len(values[1])-1, 3):\n",
    "        gender_dict[values[1][i]] = values[1][i+1]\n",
    "        \n",
    "    for i in range(0, len(values[2])-1, 3):\n",
    "        disease_dict[values[2][i]] = values[2][i+1]  \n",
    "    \n",
    "    # turn age dictionary into dataframe\n",
    "    age_df = pd.DataFrame.from_dict(age_dict, columns=['Death Rate'], orient='index')\n",
    "    \n",
    "    # turn gender dictionary into dataframe\n",
    "    gender_df = pd.DataFrame.from_dict(gender_dict, columns=['Death Rate'], orient='index')\n",
    "    \n",
    "    # turn disease dictionary into dataframe\n",
    "    disease_df = pd.DataFrame.from_dict(disease_dict, columns=['Death Rate'], orient='index')\n",
    "    \n",
    "    return age_df, gender_df, disease_df\n",
    "\n",
    "\n",
    "# function that creates bar plots comparing mortality rates for each demographic\n",
    "# returns 3 bar graph objects\n",
    "def compare_mortality(age_df, gender_df, disease_df):\n",
    "    # convert string rates to floats\n",
    "    age_rates = []\n",
    "    for rate in age_df['Death Rate']:\n",
    "        float_rate = float(rate.strip('%'))\n",
    "        age_rates.append(float_rate)\n",
    "        \n",
    "    age_viz = px.bar(age_df, y=age_df.index, x=age_rates, labels={'x':'Death Rate (%)', 'y':'Demographic'},\n",
    "                    title='Death Rates By Age', orientation='h')\n",
    "    \n",
    "    # convert string rates to floats\n",
    "    gender_rates = []\n",
    "    for rate in gender_df['Death Rate']:\n",
    "        float_rate = float(rate.strip('%'))\n",
    "        gender_rates.append(float_rate)\n",
    "    \n",
    "    gender_viz = px.bar(gender_df, y=gender_df.index, x=gender_rates, labels={'x':'Death Rate (%)', 'y':'Demographic'},\n",
    "                       title='Death Rates By Gender', orientation='h')\n",
    "    \n",
    "    # convert string rates to floats\n",
    "    disease_rates = []\n",
    "    for rate in disease_df['Death Rate']:\n",
    "        float_rate = float(rate.strip('%'))\n",
    "        disease_rates.append(float_rate)\n",
    "    \n",
    "    disease_viz = px.bar(disease_df, y=disease_df.index, x=disease_rates, labels={'x':'Death Rate (%)', 'y':'Demographic'},\n",
    "                        title='Death Rates By Pre-Existing Conditions', orientation='h')\n",
    "    \n",
    "    return age_viz, gender_viz, disease_viz\n",
    "\n",
    "\n",
    "# function shows visualization for death rate bar graphs\n",
    "def show_visualization(age_df, gender_df, disease_df, demographic):\n",
    "    age, gender, disease = compare_mortality(age_df, gender_df, disease_df)\n",
    "    \n",
    "    if demographic == 'Age':\n",
    "        age.show()\n",
    "    elif demographic == 'Gender':\n",
    "        gender.show()\n",
    "    else:\n",
    "        disease.show()\n",
    "\n",
    "        \n",
    "# function creates dataframe from age groupings csv data - shows percentages of each age group (Age_Breakdown.csv)\n",
    "def age_to_df():\n",
    "    csv_file = open('Age_Breakdown.csv')\n",
    "    pop_data = csv.reader(csv_file) \n",
    "    pop_data = list(pop_data)\n",
    "    # store contents of csv in dictionary\n",
    "    data = {}\n",
    "\n",
    "    # add data to dictionary\n",
    "    for i in range(len(pop_data[0])):\n",
    "       data[pop_data[0][i]] = pop_data[1][i]\n",
    "\n",
    "    # convert dictionary into dataframe\n",
    "    age_breakdown = pd.DataFrame(data, index=[0])\n",
    "    \n",
    "    return age_breakdown\n",
    "\n",
    "\n",
    "# function returns a dictionary that stores the percentages of each age group as a float\n",
    "# and the total population as an integer\n",
    "def show_age_floats(age_df):\n",
    "    # create list to store brackets\n",
    "    age_brackets = ['0-14', '15-24', '25-64', '65+']\n",
    "    age_perc= []\n",
    "    \n",
    "    # obtain percentages for each age bracket\n",
    "    young = age_df.iloc[0]['Age 0-14']\n",
    "    # convert percent into a decimal\n",
    "    young = float(young.strip('%')) / 100\n",
    "    age_perc.append(young)\n",
    "    \n",
    "    teen = age_df.iloc[0]['Age 15-24']\n",
    "    # convert percent into a decimal\n",
    "    teen = float(teen.strip('%')) / 100\n",
    "    age_perc.append(teen)\n",
    "    \n",
    "    mid = age_df.iloc[0]['Age 25-64']\n",
    "    # convert percent into a decimal\n",
    "    mid = float(mid.strip('%')) / 100\n",
    "    age_perc.append(mid)\n",
    "    \n",
    "    old = age_df.iloc[0]['Age 65+']\n",
    "    # convert percent into a decimal\n",
    "    old = float(old.strip('%')) / 100\n",
    "    age_perc.append(old)\n",
    "    \n",
    "    # create dictionary that will store population data based on age (number of people in each age group)\n",
    "    pop_breakdown = {}\n",
    "    population = int(age_df['2013 Population'])\n",
    "    for i in range(len(age_brackets)):\n",
    "        per_group = int(population * age_perc[i])\n",
    "        pop_breakdown[age_brackets[i]] = per_group\n",
    "        \n",
    "    return pop_breakdown, population\n",
    "    \n",
    "    \n",
    "# function returns a dictionary with updated breakdown of death rates for each age group\n",
    "# takes in dictionary of population spread and dataframe for the death rates by age\n",
    "# standardizes the other dictionary of age vulnerability\n",
    "def get_age_dict(death_rates, pop_breakdown):\n",
    "    # list stores rates as floats\n",
    "    rates = []\n",
    "    \n",
    "    for rate in death_rates['Death Rate']:\n",
    "        rate = float(rate.strip('%')) /100\n",
    "        rates.append(rate)\n",
    "    rates.reverse()\n",
    "    \n",
    "    # combine several age groups to get same groups as the population breakdown\n",
    "    # store new death rates into dictionary\n",
    "    age_dict = {}\n",
    "    for key in pop_breakdown:\n",
    "        if key == '0-14':\n",
    "            age_dict[key] = (rates[0] + rates[1]) / 2\n",
    "        elif key == '15-24':\n",
    "            age_dict[key] = (rates[1] + rates[2]) / 2\n",
    "        elif key == '25-64':\n",
    "            age_dict[key] = (rates[2] + rates[3] + rates[4] + rates[5]  + rates[6]) / 5\n",
    "        elif key == '65+':\n",
    "            age_dict[key] = (rates[len(rates)-1] + rates[len(rates)-2]) / 2\n",
    "    \n",
    "    return age_dict\n",
    "\n",
    "\n",
    "# function returns a dictionary that holds gender death rates\n",
    "# takes in dataframe for gender death rates\n",
    "def get_gender_dict(gender_df):\n",
    "    # dictionary that holds death rates by gender\n",
    "    gender_dict = {}\n",
    "    \n",
    "    for index in gender_df.index:\n",
    "        rate = gender_df.at[index, 'Death Rate']\n",
    "        rate = float(rate.strip('%')) / 100\n",
    "        gender_dict[index] = rate\n",
    "    \n",
    "    return gender_dict\n",
    "\n",
    "\n",
    "# function returns a dictionary that holds disease death rates\n",
    "# takes in dataframe for disease death rates\n",
    "def get_disease_dict(disease_df):\n",
    "    # dictionary that holds death rates by disease\n",
    "    disease_dict = {}\n",
    "    \n",
    "    for index in disease_df.index:\n",
    "        rate = disease_df.at[index, 'Death Rate']\n",
    "        rate = float(rate.strip('%')) / 100\n",
    "        disease_dict[index] = rate\n",
    "    \n",
    "    return disease_dict\n",
    "\n",
    "\n",
    "# function uses breakdown of age groups and death rates to show estimate of how many are dead if infected\n",
    "# returns a dataframe containing breakdown of estimated deaths according to age and gender\n",
    "def mortality_to_df(age_dict, gender_dict, pop_dict, population): \n",
    "    # determine estimate of deaths within age groups and gender\n",
    "    age_groups = []\n",
    "    genders = []\n",
    "    death_rates = []\n",
    "    estimate_deaths = []\n",
    "    total_deaths = []\n",
    "    \n",
    "    # calculate probability of being dead in each age group\n",
    "    for key in age_dict.keys():\n",
    "        # calculate deaths based on age death rate\n",
    "        for gender in gender_dict.keys():\n",
    "            # assume 50% of population is male\n",
    "            dead_people = (pop_dict[key] / 2) * gender_dict[gender]\n",
    "            total_deaths.append(dead_people)\n",
    "            age_groups.append(key)\n",
    "            genders.append(gender)\n",
    "            estimate_deaths.append(int(dead_people))\n",
    "            \n",
    "    # loop through total deaths to get final count\n",
    "    total_sum = 0\n",
    "    for deaths in total_deaths:\n",
    "        total_sum += deaths\n",
    "        \n",
    "    # loop through deaths to get overall death rate\n",
    "    for deaths in total_deaths:\n",
    "        overall_death_rate = deaths / total_sum\n",
    "        death_rates.append('{:.4f}%'.format(overall_death_rate * 100))\n",
    "    \n",
    "    # build dataframe from data array\n",
    "    deaths_df = pd.DataFrame({'Gender': genders,\n",
    "                              'Age Group' : age_groups,\n",
    "                              'Estimated Deaths' : estimate_deaths,\n",
    "                              '% of Dead' : death_rates})\n",
    "    \n",
    "    return deaths_df\n",
    "\n",
    "\n",
    "# function interacts with user by selecting demographic information and showing overall death rate\n",
    "# returns a dataframe containing info for an individual with the selected conditions\n",
    "def interact_risk(age_group, num_deaths_df, gender):\n",
    "    individual_info = []\n",
    "    # loop through dataframe to find info pertinent to parameters\n",
    "    for index, row in enumerate(num_deaths_df.values.tolist()):\n",
    "        if (row[0] == gender) and (row[1] == age_group):\n",
    "            individual_info = row\n",
    "    \n",
    "    parameters_df = pd.DataFrame(individual_info, index=num_deaths_df.columns)\n",
    "    parameters_df = parameters_df.transpose()\n",
    "    \n",
    "    return parameters_df\n",
    "\n",
    "\n",
    "# function plots estimated deaths based on age and gender on sunburst visualization\n",
    "# takes in argument for dataframe with estimated deaths by demographic\n",
    "def create_sunburst(num_deaths_df):\n",
    "    fig = px.sunburst(num_deaths_df, path=['Gender', 'Age Group'], \n",
    "                  values='Estimated Deaths', hover_data=['% of Dead'], \n",
    "                      title='Estimated Deaths According to Demographics')\n",
    "    fig.show()\n",
    "         \n",
    "        \n",
    "if __name__ == '__main__':\n",
    "    type_viz = ['Age', 'Gender', 'Pre-Existing Conditions']\n",
    "    print('Choose a demographic type from the dropdown menu to display mortality rates:')\n",
    "    age_rates, gender_rates, disease_rates = data_to_dataframe(get_data())\n",
    "    interact(show_visualization, age_df=fixed(age_rates), gender_df=fixed(gender_rates),\n",
    "             disease_df=fixed(disease_rates), demographic=type_viz)\n",
    "    \n",
    "    age_breakdown = age_to_df()\n",
    "    pop_breakdown, total_pop = show_age_floats(age_breakdown)\n",
    "    \n",
    "    age_dict = get_age_dict(age_rates, pop_breakdown)\n",
    "    gender_dict = get_gender_dict(gender_rates)\n",
    "    disease_dict = get_disease_dict(disease_rates)\n",
    "    \n",
    "    num_deaths_df = mortality_to_df(age_dict, gender_dict, pop_breakdown, total_pop)\n",
    "    \n",
    "    print('Enter options from the following dropdown menus to display estimated deaths: \\n')\n",
    "    interact(interact_risk, num_deaths_df=fixed(num_deaths_df), age_group=age_dict.keys(), gender=gender_dict.keys(), \n",
    "             conditions=disease_dict.keys())\n",
    "    \n",
    "    create_sunburst(num_deaths_df)\n",
    "    description = '''\n",
    "        The visualization above shows the estimated age and gender breakdown for those dying of Coronavirus. \n",
    "        Though older individuals have a greater likelihood of dying from the disease, the fact that they make  \n",
    "        up a much smaller percentage of the population leads to the estimated counts that are displayed. \n",
    "        The death percentages are taken out of a total population of 7,162,119,434.'''\n",
    "    print(description)\n",
    "\n"
   ]
  }
 ],
 "metadata": {
  "kernelspec": {
   "display_name": "Python 3",
   "language": "python",
   "name": "python3"
  },
  "language_info": {
   "codemirror_mode": {
    "name": "ipython",
    "version": 3
   },
   "file_extension": ".py",
   "mimetype": "text/x-python",
   "name": "python",
   "nbconvert_exporter": "python",
   "pygments_lexer": "ipython3",
   "version": "3.7.4"
  }
 },
 "nbformat": 4,
 "nbformat_minor": 2
}
